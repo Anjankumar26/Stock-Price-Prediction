{
 "cells": [
  {
   "cell_type": "code",
   "execution_count": 2,
   "id": "86e09793-d225-40df-b93d-d2fed5d72cb0",
   "metadata": {},
   "outputs": [],
   "source": [
    "import numpy as np\n",
    "import pandas as pd"
   ]
  },
  {
   "cell_type": "code",
   "execution_count": 4,
   "id": "51377ca9-8d46-4049-bdc8-f247e84977e4",
   "metadata": {},
   "outputs": [],
   "source": [
    "df = pd.read_csv(\"Data/SBIN.csv\")"
   ]
  },
  {
   "cell_type": "code",
   "execution_count": 6,
   "id": "bd0d2b4c-20f3-4259-afee-2f45fe342261",
   "metadata": {},
   "outputs": [
    {
     "data": {
      "text/html": [
       "<div>\n",
       "<style scoped>\n",
       "    .dataframe tbody tr th:only-of-type {\n",
       "        vertical-align: middle;\n",
       "    }\n",
       "\n",
       "    .dataframe tbody tr th {\n",
       "        vertical-align: top;\n",
       "    }\n",
       "\n",
       "    .dataframe thead th {\n",
       "        text-align: right;\n",
       "    }\n",
       "</style>\n",
       "<table border=\"1\" class=\"dataframe\">\n",
       "  <thead>\n",
       "    <tr style=\"text-align: right;\">\n",
       "      <th></th>\n",
       "      <th>Date</th>\n",
       "      <th>Open</th>\n",
       "      <th>High</th>\n",
       "      <th>Low</th>\n",
       "      <th>Close</th>\n",
       "      <th>Adj Close</th>\n",
       "      <th>Volume</th>\n",
       "    </tr>\n",
       "  </thead>\n",
       "  <tbody>\n",
       "    <tr>\n",
       "      <th>0</th>\n",
       "      <td>01-01-1996</td>\n",
       "      <td>18.691147</td>\n",
       "      <td>18.978922</td>\n",
       "      <td>18.540184</td>\n",
       "      <td>18.823240</td>\n",
       "      <td>12.409931</td>\n",
       "      <td>43733533.0</td>\n",
       "    </tr>\n",
       "    <tr>\n",
       "      <th>1</th>\n",
       "      <td>02-01-1996</td>\n",
       "      <td>18.894005</td>\n",
       "      <td>18.964767</td>\n",
       "      <td>17.738192</td>\n",
       "      <td>18.224106</td>\n",
       "      <td>12.014931</td>\n",
       "      <td>56167280.0</td>\n",
       "    </tr>\n",
       "    <tr>\n",
       "      <th>2</th>\n",
       "      <td>03-01-1996</td>\n",
       "      <td>18.327892</td>\n",
       "      <td>18.568489</td>\n",
       "      <td>17.643839</td>\n",
       "      <td>17.738192</td>\n",
       "      <td>11.694577</td>\n",
       "      <td>68296318.0</td>\n",
       "    </tr>\n",
       "    <tr>\n",
       "      <th>3</th>\n",
       "      <td>04-01-1996</td>\n",
       "      <td>17.502312</td>\n",
       "      <td>17.832542</td>\n",
       "      <td>17.223972</td>\n",
       "      <td>17.676863</td>\n",
       "      <td>11.654142</td>\n",
       "      <td>86073880.0</td>\n",
       "    </tr>\n",
       "    <tr>\n",
       "      <th>4</th>\n",
       "      <td>05-01-1996</td>\n",
       "      <td>17.738192</td>\n",
       "      <td>17.785366</td>\n",
       "      <td>17.459852</td>\n",
       "      <td>17.577793</td>\n",
       "      <td>11.588827</td>\n",
       "      <td>76613039.0</td>\n",
       "    </tr>\n",
       "    <tr>\n",
       "      <th>5</th>\n",
       "      <td>08-01-1996</td>\n",
       "      <td>17.478724</td>\n",
       "      <td>17.643839</td>\n",
       "      <td>16.922047</td>\n",
       "      <td>17.063574</td>\n",
       "      <td>11.249807</td>\n",
       "      <td>55395172.0</td>\n",
       "    </tr>\n",
       "    <tr>\n",
       "      <th>6</th>\n",
       "      <td>09-01-1996</td>\n",
       "      <td>16.889023</td>\n",
       "      <td>18.681711</td>\n",
       "      <td>16.705036</td>\n",
       "      <td>17.997660</td>\n",
       "      <td>11.865635</td>\n",
       "      <td>82057540.0</td>\n",
       "    </tr>\n",
       "    <tr>\n",
       "      <th>7</th>\n",
       "      <td>10-01-1996</td>\n",
       "      <td>17.407959</td>\n",
       "      <td>17.714603</td>\n",
       "      <td>17.054138</td>\n",
       "      <td>17.172079</td>\n",
       "      <td>11.321342</td>\n",
       "      <td>54360749.0</td>\n",
       "    </tr>\n",
       "    <tr>\n",
       "      <th>8</th>\n",
       "      <td>11-01-1996</td>\n",
       "      <td>16.983376</td>\n",
       "      <td>17.926895</td>\n",
       "      <td>16.983376</td>\n",
       "      <td>17.827826</td>\n",
       "      <td>11.753670</td>\n",
       "      <td>65973105.0</td>\n",
       "    </tr>\n",
       "    <tr>\n",
       "      <th>9</th>\n",
       "      <td>12-01-1996</td>\n",
       "      <td>17.879719</td>\n",
       "      <td>18.233540</td>\n",
       "      <td>17.573074</td>\n",
       "      <td>17.837261</td>\n",
       "      <td>11.759888</td>\n",
       "      <td>102152486.0</td>\n",
       "    </tr>\n",
       "  </tbody>\n",
       "</table>\n",
       "</div>"
      ],
      "text/plain": [
       "         Date       Open       High        Low      Close  Adj Close  \\\n",
       "0  01-01-1996  18.691147  18.978922  18.540184  18.823240  12.409931   \n",
       "1  02-01-1996  18.894005  18.964767  17.738192  18.224106  12.014931   \n",
       "2  03-01-1996  18.327892  18.568489  17.643839  17.738192  11.694577   \n",
       "3  04-01-1996  17.502312  17.832542  17.223972  17.676863  11.654142   \n",
       "4  05-01-1996  17.738192  17.785366  17.459852  17.577793  11.588827   \n",
       "5  08-01-1996  17.478724  17.643839  16.922047  17.063574  11.249807   \n",
       "6  09-01-1996  16.889023  18.681711  16.705036  17.997660  11.865635   \n",
       "7  10-01-1996  17.407959  17.714603  17.054138  17.172079  11.321342   \n",
       "8  11-01-1996  16.983376  17.926895  16.983376  17.827826  11.753670   \n",
       "9  12-01-1996  17.879719  18.233540  17.573074  17.837261  11.759888   \n",
       "\n",
       "        Volume  \n",
       "0   43733533.0  \n",
       "1   56167280.0  \n",
       "2   68296318.0  \n",
       "3   86073880.0  \n",
       "4   76613039.0  \n",
       "5   55395172.0  \n",
       "6   82057540.0  \n",
       "7   54360749.0  \n",
       "8   65973105.0  \n",
       "9  102152486.0  "
      ]
     },
     "execution_count": 6,
     "metadata": {},
     "output_type": "execute_result"
    }
   ],
   "source": [
    "df.head(10)"
   ]
  },
  {
   "cell_type": "code",
   "execution_count": 8,
   "id": "9fb3e6dd-607e-48b8-8be8-ac6c04bcb5b2",
   "metadata": {},
   "outputs": [
    {
     "data": {
      "text/plain": [
       "(7074, 7)"
      ]
     },
     "execution_count": 8,
     "metadata": {},
     "output_type": "execute_result"
    }
   ],
   "source": [
    "df.shape"
   ]
  },
  {
   "cell_type": "code",
   "execution_count": 10,
   "id": "5c6a7e88-f015-4570-acaa-1bd858e81a97",
   "metadata": {},
   "outputs": [
    {
     "name": "stdout",
     "output_type": "stream",
     "text": [
      "<class 'pandas.core.frame.DataFrame'>\n",
      "RangeIndex: 7074 entries, 0 to 7073\n",
      "Data columns (total 7 columns):\n",
      " #   Column     Non-Null Count  Dtype  \n",
      "---  ------     --------------  -----  \n",
      " 0   Date       7074 non-null   object \n",
      " 1   Open       7065 non-null   float64\n",
      " 2   High       7065 non-null   float64\n",
      " 3   Low        7065 non-null   float64\n",
      " 4   Close      7065 non-null   float64\n",
      " 5   Adj Close  7065 non-null   float64\n",
      " 6   Volume     7065 non-null   float64\n",
      "dtypes: float64(6), object(1)\n",
      "memory usage: 387.0+ KB\n"
     ]
    }
   ],
   "source": [
    "df.info()"
   ]
  },
  {
   "cell_type": "code",
   "execution_count": 12,
   "id": "a0f79bde-74d8-4ae8-a179-38eedc9ac003",
   "metadata": {},
   "outputs": [
    {
     "data": {
      "text/html": [
       "<div>\n",
       "<style scoped>\n",
       "    .dataframe tbody tr th:only-of-type {\n",
       "        vertical-align: middle;\n",
       "    }\n",
       "\n",
       "    .dataframe tbody tr th {\n",
       "        vertical-align: top;\n",
       "    }\n",
       "\n",
       "    .dataframe thead th {\n",
       "        text-align: right;\n",
       "    }\n",
       "</style>\n",
       "<table border=\"1\" class=\"dataframe\">\n",
       "  <thead>\n",
       "    <tr style=\"text-align: right;\">\n",
       "      <th></th>\n",
       "      <th>Open</th>\n",
       "      <th>High</th>\n",
       "      <th>Low</th>\n",
       "      <th>Close</th>\n",
       "      <th>Adj Close</th>\n",
       "      <th>Volume</th>\n",
       "    </tr>\n",
       "  </thead>\n",
       "  <tbody>\n",
       "    <tr>\n",
       "      <th>count</th>\n",
       "      <td>7065.000000</td>\n",
       "      <td>7065.000000</td>\n",
       "      <td>7065.000000</td>\n",
       "      <td>7065.000000</td>\n",
       "      <td>7065.000000</td>\n",
       "      <td>7.065000e+03</td>\n",
       "    </tr>\n",
       "    <tr>\n",
       "      <th>mean</th>\n",
       "      <td>180.682841</td>\n",
       "      <td>183.085167</td>\n",
       "      <td>177.998209</td>\n",
       "      <td>180.448294</td>\n",
       "      <td>166.021712</td>\n",
       "      <td>3.130217e+07</td>\n",
       "    </tr>\n",
       "    <tr>\n",
       "      <th>std</th>\n",
       "      <td>154.773229</td>\n",
       "      <td>156.345078</td>\n",
       "      <td>152.980516</td>\n",
       "      <td>154.630549</td>\n",
       "      <td>152.903249</td>\n",
       "      <td>3.462744e+07</td>\n",
       "    </tr>\n",
       "    <tr>\n",
       "      <th>min</th>\n",
       "      <td>13.478195</td>\n",
       "      <td>13.935802</td>\n",
       "      <td>13.214009</td>\n",
       "      <td>13.346102</td>\n",
       "      <td>9.531410</td>\n",
       "      <td>0.000000e+00</td>\n",
       "    </tr>\n",
       "    <tr>\n",
       "      <th>25%</th>\n",
       "      <td>28.423565</td>\n",
       "      <td>28.824560</td>\n",
       "      <td>28.022570</td>\n",
       "      <td>28.456589</td>\n",
       "      <td>19.854374</td>\n",
       "      <td>1.299123e+07</td>\n",
       "    </tr>\n",
       "    <tr>\n",
       "      <th>50%</th>\n",
       "      <td>173.100006</td>\n",
       "      <td>176.500000</td>\n",
       "      <td>170.250000</td>\n",
       "      <td>172.925003</td>\n",
       "      <td>152.411270</td>\n",
       "      <td>2.064292e+07</td>\n",
       "    </tr>\n",
       "    <tr>\n",
       "      <th>75%</th>\n",
       "      <td>265.500000</td>\n",
       "      <td>268.899994</td>\n",
       "      <td>261.299988</td>\n",
       "      <td>265.174988</td>\n",
       "      <td>245.764954</td>\n",
       "      <td>3.651478e+07</td>\n",
       "    </tr>\n",
       "    <tr>\n",
       "      <th>max</th>\n",
       "      <td>703.650024</td>\n",
       "      <td>728.349976</td>\n",
       "      <td>694.200012</td>\n",
       "      <td>725.250000</td>\n",
       "      <td>725.250000</td>\n",
       "      <td>4.469483e+08</td>\n",
       "    </tr>\n",
       "  </tbody>\n",
       "</table>\n",
       "</div>"
      ],
      "text/plain": [
       "              Open         High          Low        Close    Adj Close  \\\n",
       "count  7065.000000  7065.000000  7065.000000  7065.000000  7065.000000   \n",
       "mean    180.682841   183.085167   177.998209   180.448294   166.021712   \n",
       "std     154.773229   156.345078   152.980516   154.630549   152.903249   \n",
       "min      13.478195    13.935802    13.214009    13.346102     9.531410   \n",
       "25%      28.423565    28.824560    28.022570    28.456589    19.854374   \n",
       "50%     173.100006   176.500000   170.250000   172.925003   152.411270   \n",
       "75%     265.500000   268.899994   261.299988   265.174988   245.764954   \n",
       "max     703.650024   728.349976   694.200012   725.250000   725.250000   \n",
       "\n",
       "             Volume  \n",
       "count  7.065000e+03  \n",
       "mean   3.130217e+07  \n",
       "std    3.462744e+07  \n",
       "min    0.000000e+00  \n",
       "25%    1.299123e+07  \n",
       "50%    2.064292e+07  \n",
       "75%    3.651478e+07  \n",
       "max    4.469483e+08  "
      ]
     },
     "execution_count": 12,
     "metadata": {},
     "output_type": "execute_result"
    }
   ],
   "source": [
    "df.describe()"
   ]
  },
  {
   "cell_type": "code",
   "execution_count": 18,
   "id": "ea5c3266-fbae-4977-98bc-9754505daac8",
   "metadata": {},
   "outputs": [],
   "source": [
    "df['Date'] = pd.to_datetime(df['Date'], dayfirst=True)"
   ]
  },
  {
   "cell_type": "code",
   "execution_count": 20,
   "id": "be22ff6a-e78a-4b82-87b5-30f28bd79d47",
   "metadata": {},
   "outputs": [
    {
     "data": {
      "text/html": [
       "<div>\n",
       "<style scoped>\n",
       "    .dataframe tbody tr th:only-of-type {\n",
       "        vertical-align: middle;\n",
       "    }\n",
       "\n",
       "    .dataframe tbody tr th {\n",
       "        vertical-align: top;\n",
       "    }\n",
       "\n",
       "    .dataframe thead th {\n",
       "        text-align: right;\n",
       "    }\n",
       "</style>\n",
       "<table border=\"1\" class=\"dataframe\">\n",
       "  <thead>\n",
       "    <tr style=\"text-align: right;\">\n",
       "      <th></th>\n",
       "      <th>Date</th>\n",
       "      <th>Open</th>\n",
       "      <th>High</th>\n",
       "      <th>Low</th>\n",
       "      <th>Close</th>\n",
       "      <th>Adj Close</th>\n",
       "      <th>Volume</th>\n",
       "    </tr>\n",
       "  </thead>\n",
       "  <tbody>\n",
       "    <tr>\n",
       "      <th>0</th>\n",
       "      <td>1996-01-01</td>\n",
       "      <td>18.691147</td>\n",
       "      <td>18.978922</td>\n",
       "      <td>18.540184</td>\n",
       "      <td>18.823240</td>\n",
       "      <td>12.409931</td>\n",
       "      <td>43733533.0</td>\n",
       "    </tr>\n",
       "    <tr>\n",
       "      <th>1</th>\n",
       "      <td>1996-01-02</td>\n",
       "      <td>18.894005</td>\n",
       "      <td>18.964767</td>\n",
       "      <td>17.738192</td>\n",
       "      <td>18.224106</td>\n",
       "      <td>12.014931</td>\n",
       "      <td>56167280.0</td>\n",
       "    </tr>\n",
       "    <tr>\n",
       "      <th>2</th>\n",
       "      <td>1996-01-03</td>\n",
       "      <td>18.327892</td>\n",
       "      <td>18.568489</td>\n",
       "      <td>17.643839</td>\n",
       "      <td>17.738192</td>\n",
       "      <td>11.694577</td>\n",
       "      <td>68296318.0</td>\n",
       "    </tr>\n",
       "    <tr>\n",
       "      <th>3</th>\n",
       "      <td>1996-01-04</td>\n",
       "      <td>17.502312</td>\n",
       "      <td>17.832542</td>\n",
       "      <td>17.223972</td>\n",
       "      <td>17.676863</td>\n",
       "      <td>11.654142</td>\n",
       "      <td>86073880.0</td>\n",
       "    </tr>\n",
       "    <tr>\n",
       "      <th>4</th>\n",
       "      <td>1996-01-05</td>\n",
       "      <td>17.738192</td>\n",
       "      <td>17.785366</td>\n",
       "      <td>17.459852</td>\n",
       "      <td>17.577793</td>\n",
       "      <td>11.588827</td>\n",
       "      <td>76613039.0</td>\n",
       "    </tr>\n",
       "  </tbody>\n",
       "</table>\n",
       "</div>"
      ],
      "text/plain": [
       "        Date       Open       High        Low      Close  Adj Close  \\\n",
       "0 1996-01-01  18.691147  18.978922  18.540184  18.823240  12.409931   \n",
       "1 1996-01-02  18.894005  18.964767  17.738192  18.224106  12.014931   \n",
       "2 1996-01-03  18.327892  18.568489  17.643839  17.738192  11.694577   \n",
       "3 1996-01-04  17.502312  17.832542  17.223972  17.676863  11.654142   \n",
       "4 1996-01-05  17.738192  17.785366  17.459852  17.577793  11.588827   \n",
       "\n",
       "       Volume  \n",
       "0  43733533.0  \n",
       "1  56167280.0  \n",
       "2  68296318.0  \n",
       "3  86073880.0  \n",
       "4  76613039.0  "
      ]
     },
     "execution_count": 20,
     "metadata": {},
     "output_type": "execute_result"
    }
   ],
   "source": [
    "df.head()"
   ]
  },
  {
   "cell_type": "code",
   "execution_count": 22,
   "id": "79e195f0-a0b5-44bf-ac5d-58cd608374e5",
   "metadata": {},
   "outputs": [
    {
     "name": "stdout",
     "output_type": "stream",
     "text": [
      "<class 'pandas.core.frame.DataFrame'>\n",
      "RangeIndex: 7074 entries, 0 to 7073\n",
      "Data columns (total 7 columns):\n",
      " #   Column     Non-Null Count  Dtype         \n",
      "---  ------     --------------  -----         \n",
      " 0   Date       7074 non-null   datetime64[ns]\n",
      " 1   Open       7065 non-null   float64       \n",
      " 2   High       7065 non-null   float64       \n",
      " 3   Low        7065 non-null   float64       \n",
      " 4   Close      7065 non-null   float64       \n",
      " 5   Adj Close  7065 non-null   float64       \n",
      " 6   Volume     7065 non-null   float64       \n",
      "dtypes: datetime64[ns](1), float64(6)\n",
      "memory usage: 387.0 KB\n"
     ]
    }
   ],
   "source": [
    "df.info()"
   ]
  },
  {
   "cell_type": "markdown",
   "id": "fa2ae458-9d1a-4202-b0f4-16784fffaba5",
   "metadata": {},
   "source": [
    "### EDA"
   ]
  },
  {
   "cell_type": "code",
   "execution_count": 25,
   "id": "8c98bfa4-bcf1-4059-b378-b349010dab37",
   "metadata": {},
   "outputs": [],
   "source": [
    "import matplotlib.pyplot as plt\n",
    "import seaborn as sns"
   ]
  },
  {
   "cell_type": "code",
   "execution_count": 43,
   "id": "194da9e9-9bf8-497a-81f2-9d6f54c897f1",
   "metadata": {},
   "outputs": [
    {
     "data": {
      "image/png": "[encoded data removed]",
      "text/plain": [
       "<Figure size 640x480 with 1 Axes>"
      ]
     },
     "metadata": {},
     "output_type": "display_data"
    }
   ],
   "source": [
    "sns.scatterplot(x = df['Date'], y = df['Volume'])\n",
    "sns.kdeplot(x = df['Date'], y = df['Volume'])\n",
    "plt.show()"
   ]
  },
  {
   "cell_type": "code",
   "execution_count": null,
   "id": "cbf3fc8a-59c9-40ee-bd5c-4c7e762b016d",
   "metadata": {},
   "outputs": [],
   "source": [
    "sns.countplot(x = df['Volume'])\n",
    "plt.show()"
   ]
  },
  {
   "cell_type": "code",
   "execution_count": null,
   "id": "00a2e645-259a-4873-9a12-5572f5bcea9e",
   "metadata": {},
   "outputs": [],
   "source": []
  },
  {
   "cell_type": "code",
   "execution_count": null,
   "id": "bd630c6a-adbb-4b34-ac1e-be3e6ac5bfe7",
   "metadata": {},
   "outputs": [],
   "source": []
  },
  {
   "cell_type": "code",
   "execution_count": null,
   "id": "e1d8a700-e88b-4171-96e5-41039fb624e6",
   "metadata": {},
   "outputs": [],
   "source": []
  },
  {
   "cell_type": "code",
   "execution_count": null,
   "id": "19880056-db20-414e-97ec-be1bb240a179",
   "metadata": {},
   "outputs": [],
   "source": []
  },
  {
   "cell_type": "code",
   "execution_count": null,
   "id": "15348a43-014f-465f-bd0c-d665a98bb835",
   "metadata": {},
   "outputs": [],
   "source": []
  },
  {
   "cell_type": "code",
   "execution_count": null,
   "id": "21fe1ab7-1c01-4434-a21d-3a1569b0de37",
   "metadata": {},
   "outputs": [],
   "source": []
  },
  {
   "cell_type": "code",
   "execution_count": null,
   "id": "b155bf2f-9c0b-4c63-8b9c-b70b377b4c9c",
   "metadata": {},
   "outputs": [],
   "source": []
  },
  {
   "cell_type": "code",
   "execution_count": null,
   "id": "b0dc187b-d2f1-4861-86ea-898a664f9d24",
   "metadata": {},
   "outputs": [],
   "source": []
  },
  {
   "cell_type": "code",
   "execution_count": null,
   "id": "394fc80f-d407-455f-8a6f-253f529521f1",
   "metadata": {},
   "outputs": [],
   "source": []
  },
  {
   "cell_type": "code",
   "execution_count": null,
   "id": "6de0b1f4-eccf-4190-b331-52118a20e608",
   "metadata": {},
   "outputs": [],
   "source": []
  },
  {
   "cell_type": "code",
   "execution_count": null,
   "id": "bb1f08d4-e5dc-489b-ab50-767366c358d0",
   "metadata": {},
   "outputs": [],
   "source": []
  },
  {
   "cell_type": "code",
   "execution_count": null,
   "id": "60e01b84-7b4c-493f-a583-b11ceb6dc444",
   "metadata": {},
   "outputs": [],
   "source": []
  },
  {
   "cell_type": "code",
   "execution_count": null,
   "id": "511f7731-55f8-42af-aa05-67bc176e3901",
   "metadata": {},
   "outputs": [],
   "source": []
  },
  {
   "cell_type": "code",
   "execution_count": null,
   "id": "144f0c5f-bf0f-4e51-b0e9-f31a50562d25",
   "metadata": {},
   "outputs": [],
   "source": []
  },
  {
   "cell_type": "code",
   "execution_count": null,
   "id": "3e03355c-788e-44c0-a2e6-a479498756a3",
   "metadata": {},
   "outputs": [],
   "source": []
  },
  {
   "cell_type": "code",
   "execution_count": null,
   "id": "b98fd5f3-01cb-4c46-a6c4-5f5430137095",
   "metadata": {},
   "outputs": [],
   "source": []
  },
  {
   "cell_type": "code",
   "execution_count": null,
   "id": "d3fe43cc-feb7-49f9-8ded-fd7acf4e99de",
   "metadata": {},
   "outputs": [],
   "source": []
  },
  {
   "cell_type": "code",
   "execution_count": null,
   "id": "72d92b75-2e1f-4fba-aa71-150d0addf69d",
   "metadata": {},
   "outputs": [],
   "source": []
  },
  {
   "cell_type": "code",
   "execution_count": null,
   "id": "128db0d2-3582-4ced-8b54-40567bb06830",
   "metadata": {},
   "outputs": [],
   "source": []
  },
  {
   "cell_type": "code",
   "execution_count": null,
   "id": "d018535e-6ee9-4ee8-a9a4-b285fa9feef3",
   "metadata": {},
   "outputs": [],
   "source": []
  },
  {
   "cell_type": "code",
   "execution_count": null,
   "id": "bf9469bd-4acf-43d7-9352-9b58c7d96722",
   "metadata": {},
   "outputs": [],
   "source": []
  },
  {
   "cell_type": "code",
   "execution_count": null,
   "id": "43fe6932-06a2-4de6-8f01-1c69c58be698",
   "metadata": {},
   "outputs": [],
   "source": []
  },
  {
   "cell_type": "code",
   "execution_count": null,
   "id": "49590873-7713-4e4f-8605-964eebd901cd",
   "metadata": {},
   "outputs": [],
   "source": []
  },
  {
   "cell_type": "code",
   "execution_count": null,
   "id": "0f62cce7-19a3-4296-a139-2ec3878b6dee",
   "metadata": {},
   "outputs": [],
   "source": []
  },
  {
   "cell_type": "code",
   "execution_count": null,
   "id": "a9c5706e-f14a-4b80-8075-4d40682476d7",
   "metadata": {},
   "outputs": [],
   "source": []
  },
  {
   "cell_type": "code",
   "execution_count": null,
   "id": "9a9d6644-647e-4489-a4af-ddd243417bcc",
   "metadata": {},
   "outputs": [],
   "source": []
  },
  {
   "cell_type": "code",
   "execution_count": null,
   "id": "e6d5ee93-74b2-432c-ab0e-e44272df5de0",
   "metadata": {},
   "outputs": [],
   "source": []
  },
  {
   "cell_type": "code",
   "execution_count": null,
   "id": "617e2302-2768-4143-8c67-324a87523cc2",
   "metadata": {},
   "outputs": [],
   "source": []
  },
  {
   "cell_type": "code",
   "execution_count": null,
   "id": "2c9cf69a-4059-45d8-b30a-9128376cb341",
   "metadata": {},
   "outputs": [],
   "source": []
  },
  {
   "cell_type": "code",
   "execution_count": null,
   "id": "d101e1ee-ee0e-4167-8c22-7f8d1a45c605",
   "metadata": {},
   "outputs": [],
   "source": []
  },
  {
   "cell_type": "code",
   "execution_count": null,
   "id": "88dc069f-dd1a-4856-8443-fba999f673a1",
   "metadata": {},
   "outputs": [],
   "source": []
  },
  {
   "cell_type": "code",
   "execution_count": null,
   "id": "d3e78015-ef36-4a75-919b-250016da4c71",
   "metadata": {},
   "outputs": [],
   "source": []
  },
  {
   "cell_type": "code",
   "execution_count": null,
   "id": "e880f7fc-42a0-44cf-adac-2e371ad3ec81",
   "metadata": {},
   "outputs": [],
   "source": []
  },
  {
   "cell_type": "code",
   "execution_count": null,
   "id": "32a44440-3163-43db-bc2c-c814268a1a6a",
   "metadata": {},
   "outputs": [],
   "source": []
  }
 ],
 "metadata": {
  "kernelspec": {
   "display_name": "Python 3 (ipykernel)",
   "language": "python",
   "name": "python3"
  },
  "language_info": {
   "codemirror_mode": {
    "name": "ipython",
    "version": 3
   },
   "file_extension": ".py",
   "mimetype": "text/x-python",
   "name": "python",
   "nbconvert_exporter": "python",
   "pygments_lexer": "ipython3",
   "version": "3.11.7"
  }
 },
 "nbformat": 4,
 "nbformat_minor": 5
}
